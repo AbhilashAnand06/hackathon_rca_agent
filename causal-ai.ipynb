{
 "cells": [
  {
   "cell_type": "markdown",
   "id": "84eb78f5",
   "metadata": {},
   "source": [
    "### Importing libraries and setup Azure OpenAI"
   ]
  },
  {
   "cell_type": "code",
   "execution_count": 1,
   "id": "8f97f21f",
   "metadata": {},
   "outputs": [],
   "source": [
    "import os\n",
    "from dotenv import load_dotenv\n",
    "from langchain_openai import AzureChatOpenAI\n",
    "from langgraph_supervisor import create_supervisor\n",
    "from langgraph.prebuilt import create_react_agent\n",
    "\n",
    "from langchain_community.document_loaders import PyPDFLoader\n",
    "from langchain.text_splitter import RecursiveCharacterTextSplitter\n",
    "from langchain_community.vectorstores import FAISS\n",
    "from langchain_openai import AzureOpenAIEmbeddings\n",
    "from langchain.tools import Tool\n",
    "\n",
    "from IPython.display import HTML, display\n",
    "import pandas as pd\n",
    "import markdown2\n",
    "import datetime\n",
    "\n",
    "import ipywidgets as widgets\n",
    "from typing import Union, Callable"
   ]
  },
  {
   "cell_type": "code",
   "execution_count": 2,
   "id": "bc3828e7",
   "metadata": {},
   "outputs": [],
   "source": [
    "# Update the client initialization cell\n",
    "load_dotenv()\n",
    "\n",
    "# Initialize the Azure OpenAI model with LangChain\n",
    "llm = AzureChatOpenAI(\n",
    "    api_key=os.getenv(\"AZURE_OPENAI_API_KEY\"),\n",
    "    azure_endpoint=os.getenv(\"AZURE_OPENAI_ENDPOINT\"),\n",
    "    azure_deployment=os.getenv(\"AZURE_DEPLOYMENT_NAME\"),\n",
    "    api_version=\"2025-03-01-preview\"\n",
    ")"
   ]
  },
  {
   "cell_type": "markdown",
   "id": "ed6cd036",
   "metadata": {},
   "source": [
    "### Initialize  RCA Technique advisor agent and establish knowledge base for it"
   ]
  },
  {
   "cell_type": "code",
   "execution_count": 3,
   "id": "24e589f1",
   "metadata": {},
   "outputs": [
    {
     "name": "stderr",
     "output_type": "stream",
     "text": [
      "<>:2: SyntaxWarning: invalid escape sequence '\\I'\n",
      "<>:2: SyntaxWarning: invalid escape sequence '\\I'\n",
      "C:\\Users\\ABHANA\\AppData\\Local\\Temp\\ipykernel_6188\\3999924126.py:2: SyntaxWarning: invalid escape sequence '\\I'\n",
      "  loader = PyPDFLoader(\"data\\IEC-62740.pdf\")  # Adjust filename as needed\n"
     ]
    }
   ],
   "source": [
    "# Load and process the PDF\n",
    "loader = PyPDFLoader(\"data\\IEC-62740.pdf\")  # Adjust filename as needed\n",
    "documents = loader.load()\n",
    "\n",
    "# Split into chunks\n",
    "text_splitter = RecursiveCharacterTextSplitter(\n",
    "    chunk_size=1000,\n",
    "    chunk_overlap=200\n",
    ")\n",
    "chunks = text_splitter.split_documents(documents)\n",
    "\n",
    "# Create embeddings and vector store\n",
    "embeddings = AzureOpenAIEmbeddings(\n",
    "    azure_endpoint=os.getenv(\"EMBEDDING_ENDPOINT\"),\n",
    "    api_key=os.getenv(\"EMBEDDING_API_KEY\"),\n",
    "    deployment=os.getenv(\"EMBEDDING_DEPLOYMENT\"),\n",
    "    api_version=\"2025-03-01-preview\"\n",
    ")\n",
    "\n",
    "vectorstore = FAISS.from_documents(chunks, embeddings) # Vectorstore creation - FAISS from Meta\n",
    "\n",
    "# Create a retrieval tool\n",
    "def retrieve_rca_techniques(query: str) -> str:\n",
    "    \"\"\"Search for relevant RCA techniques in the knowledge base.\"\"\"\n",
    "    docs = vectorstore.similarity_search(query, k=3)\n",
    "    return \"\\n\\n\".join(doc.page_content for doc in docs)\n",
    "\n",
    "rca_knowledge_tool = Tool(\n",
    "    name=\"rca_techniques_lookup\",\n",
    "    description=\"Search for industry standard RCA techniques and their applications\",\n",
    "    func=retrieve_rca_techniques\n",
    ")"
   ]
  },
  {
   "cell_type": "code",
   "execution_count": 4,
   "id": "0034842f",
   "metadata": {},
   "outputs": [],
   "source": [
    "# Define the RCA Technique Advisor agent\n",
    "technique_advisor_prompt = \"\"\"You are an expert in Root Cause Analysis (RCA) techniques.\n",
    "Given an incident description:\n",
    "1. Use the rca_techniques_lookup tool to search for relevant techniques\n",
    "2. Consider the incident context and complexity\n",
    "3. Suggest the most appropriate RCA technique\n",
    "4. Justify your choice with reference to industry standards\n",
    "5. Format your response in Markdown with clear headings\n",
    "\n",
    "Current incident: {input}\n",
    "\"\"\"\n",
    "\n",
    "technique_advisor = create_react_agent(\n",
    "    model=llm,\n",
    "    tools=[rca_knowledge_tool],\n",
    "    name=\"rca_technique_advisor\",\n",
    "    prompt=technique_advisor_prompt\n",
    ")"
   ]
  },
  {
   "cell_type": "markdown",
   "id": "51edff1b",
   "metadata": {},
   "source": [
    "### Initialize RCA Performer agent and provide it with access to investigation reports/questionnaire"
   ]
  },
  {
   "cell_type": "code",
   "execution_count": 5,
   "id": "cb02cdfe",
   "metadata": {},
   "outputs": [],
   "source": [
    "def process_investigation_report(file_path: str) -> str:\n",
    "    \"\"\"Process investigation report and extract relevant information.\"\"\"\n",
    "    try:\n",
    "        loader = PyPDFLoader(file_path)\n",
    "        pages = loader.load()\n",
    "        return \"\\n\\n\".join(page.page_content for page in pages)\n",
    "    except Exception as e:\n",
    "        return f\"Error processing report: {str(e)}\"\n",
    "\n",
    "investigation_tool = Tool(\n",
    "    name=\"investigation_report_lookup\",\n",
    "    description=\"Search through investigation reports for relevant evidence and context\",\n",
    "    func=process_investigation_report\n",
    ")"
   ]
  },
  {
   "cell_type": "code",
   "execution_count": 6,
   "id": "4275c1bd",
   "metadata": {},
   "outputs": [],
   "source": [
    "# Define the RCA Performer agent\n",
    "rca_performer_prompt = \"\"\"You are an RCA specialist. Given an incident description and a recommended RCA technique:\n",
    "1. If interview evidence is available, use it to inform your analysis\n",
    "2. If investigation reports are available, use them as evidence\n",
    "3. Analyze the incident using the recommended technique and available evidence\n",
    "4. Present your analysis in a structured format with clear sections:\n",
    "   - Incident Overview\n",
    "   - Evidence Used\n",
    "   - Analysis Process\n",
    "   - Root Causes Identified\n",
    "   - Supporting Evidence\n",
    "   - Recommendations\n",
    "\n",
    "Format your response in Markdown for better readability.\n",
    "\"\"\"\n",
    "\n",
    "rca_performer = create_react_agent(\n",
    "    model=llm,\n",
    "    tools=[investigation_tool],\n",
    "    name=\"rca_performer\",\n",
    "    prompt=rca_performer_prompt\n",
    ")\n"
   ]
  },
  {
   "cell_type": "code",
   "execution_count": 7,
   "id": "79c5861a",
   "metadata": {},
   "outputs": [],
   "source": [
    "def interactive_interview(incident_description: str, on_complete: Callable[[dict], None]):\n",
    "    \"\"\"Conduct an interactive interview and call on_complete when done.\"\"\"\n",
    "    questions = {\n",
    "        \"maintenance\": [\n",
    "            \"What maintenance procedures were being followed?\",\n",
    "            \"Who was involved in the maintenance activity?\",\n",
    "            \"What safety measures were in place?\",\n",
    "            \"Were there any similar incidents in the past?\"\n",
    "        ],\n",
    "        \"equipment_failure\": [\n",
    "            \"What was the equipment's maintenance history?\",\n",
    "            \"When was the last inspection?\",\n",
    "            \"Were there any warning signs before the failure?\",\n",
    "            \"What were the operating conditions at the time?\"\n",
    "        ]\n",
    "    }\n",
    "\n",
    "    question_set = \"maintenance\" if \"maintenance\" in incident_description.lower() else \"equipment_failure\"\n",
    "    questions_list = questions[question_set]\n",
    "\n",
    "    state = {\n",
    "        \"current_q_idx\": 0,\n",
    "        \"responses\": {}\n",
    "    }\n",
    "\n",
    "    question_label = widgets.HTML(f\"<h3>Q: {questions_list[0]}</h3>\")\n",
    "    answer_box = widgets.Textarea(placeholder='Type your answer here...', layout=widgets.Layout(width='100%', height='100px'))\n",
    "    next_button = widgets.Button(description='Next Question', button_style='primary')\n",
    "    progress = widgets.HTML(value=f\"Question 1 of {len(questions_list)}\")\n",
    "    status = widgets.Output()\n",
    "\n",
    "    def on_next_clicked(_):\n",
    "        current_q = questions_list[state[\"current_q_idx\"]]\n",
    "        state[\"responses\"][current_q] = answer_box.value\n",
    "\n",
    "        state[\"current_q_idx\"] += 1\n",
    "\n",
    "        if state[\"current_q_idx\"] < len(questions_list):\n",
    "            question_label.value = f\"<h3>Q: {questions_list[state['current_q_idx']]}</h3>\"\n",
    "            progress.value = f\"Question {state['current_q_idx'] + 1} of {len(questions_list)}\"\n",
    "            answer_box.value = \"\"\n",
    "            if state[\"current_q_idx\"] == len(questions_list) - 1:\n",
    "                next_button.description = \"Finish\"\n",
    "        else:\n",
    "            container.close()\n",
    "            on_complete(state[\"responses\"])\n",
    "\n",
    "    next_button.on_click(on_next_clicked)\n",
    "\n",
    "    container = widgets.VBox([\n",
    "        widgets.HTML(f\"<h2>RCA Interview</h2><p>Incident: {incident_description}</p>\"),\n",
    "        progress,\n",
    "        question_label,\n",
    "        answer_box,\n",
    "        next_button,\n",
    "        status\n",
    "    ])\n",
    "    display(container)\n"
   ]
  },
  {
   "cell_type": "markdown",
   "id": "b2696c77",
   "metadata": {},
   "source": [
    "#### Function to format the output and export the result to a markdown file"
   ]
  },
  {
   "cell_type": "code",
   "execution_count": 8,
   "id": "c169767d",
   "metadata": {},
   "outputs": [],
   "source": [
    "def display_final_rca_response(result):\n",
    "    # Create HTML template with Bootstrap and custom CSS\n",
    "    html = \"\"\"\n",
    "    <div style=\"max-width: 800px; margin: 20px auto; background-color: white; padding: 20px; border-radius: 8px;\">\n",
    "        <style>\n",
    "            .card-body { \n",
    "                padding: 15px;\n",
    "                background-color: white;\n",
    "            }\n",
    "            .markdown-content { \n",
    "                font-family: -apple-system, BlinkMacSystemFont, \"Segoe UI\", Roboto, \"Helvetica Neue\", Arial, sans-serif;\n",
    "                color: #333333;\n",
    "            }\n",
    "            .markdown-content h1, h2, h3 { \n",
    "                color: #2980b9; \n",
    "                margin-top: 20px;\n",
    "                font-weight: 600;\n",
    "            }\n",
    "            .markdown-content pre { \n",
    "                background-color: #f8f9fa; \n",
    "                padding: 10px; \n",
    "                border-radius: 4px;\n",
    "                border: 1px solid #e0e0e0;\n",
    "            }\n",
    "            .markdown-content table {\n",
    "                width: 100%;\n",
    "                border-collapse: collapse;\n",
    "                margin: 15px 0;\n",
    "            }\n",
    "            .markdown-content th {\n",
    "                background-color: #2980b9;\n",
    "                color: white;\n",
    "                padding: 10px;\n",
    "                border: 1px solid #e0e0e0;\n",
    "            }\n",
    "            .markdown-content td {\n",
    "                padding: 8px;\n",
    "                border: 1px solid #e0e0e0;\n",
    "                background-color: white;\n",
    "            }\n",
    "            .markdown-content ul, ol { \n",
    "                padding-left: 20px;\n",
    "                color: #333333;\n",
    "            }\n",
    "        </style>\n",
    "        <h2 style=\"color: #2980b9; text-align: center;\">RCA Analysis Results</h2>\n",
    "    \"\"\"\n",
    "    \n",
    "    # Get the last message (supervisor's final response)\n",
    "    final_message = result[\"messages\"][-1]\n",
    "    \n",
    "    # Convert Markdown to HTML with tables support\n",
    "    markdown_html = markdown2.markdown(\n",
    "        final_message.content,\n",
    "        extras=['tables', 'fenced-code-blocks']\n",
    "    )\n",
    "    \n",
    "    # Save to markdown file\n",
    "    timestamp = datetime.datetime.now().strftime(\"%Y%m%d_%H%M%S\")\n",
    "    filename = f\"rca_analysis_{timestamp}.md\"\n",
    "    \n",
    "    with open(filename, 'w', encoding='utf-8') as f:\n",
    "        f.write(\"# RCA Analysis Results\\n\\n\")\n",
    "        f.write(final_message.content)\n",
    "    \n",
    "    print(f\"\\nAnalysis saved to: {filename}\")\n",
    "    \n",
    "    # Add the final response card\n",
    "    card_html = f\"\"\"\n",
    "    <div class=\"card\">\n",
    "        <div class=\"card-body\">\n",
    "            <div class=\"markdown-content\">\n",
    "                {markdown_html}\n",
    "            </div>\n",
    "        </div>\n",
    "    </div>\n",
    "    \"\"\"\n",
    "    \n",
    "    html += card_html + \"</div>\"\n",
    "    \n",
    "    # Display the HTML\n",
    "    display(HTML(html))"
   ]
  },
  {
   "cell_type": "markdown",
   "id": "8f1320a4",
   "metadata": {},
   "source": [
    "### Initialize the supervisor agent"
   ]
  },
  {
   "cell_type": "code",
   "execution_count": 9,
   "id": "857e3a91",
   "metadata": {},
   "outputs": [],
   "source": [
    "# Create the supervisor agent\n",
    "supervisor_prompt = (\n",
    "    \"You are a supervisor managing two agents: 'rca_technique_advisor' and 'rca_performer'. \"\n",
    "    \"First, delegate the incident description to 'rca_technique_advisor' to get the recommended RCA technique. \"\n",
    "    \"Then, pass both the incident description and the recommended technique to 'rca_performer' to perform the analysis. \"\n",
    "    \"Finally, compile and present the complete RCA findings.\"\n",
    ")\n",
    "\n",
    "supervisor = create_supervisor(\n",
    "    agents=[technique_advisor, rca_performer],\n",
    "    model=llm,\n",
    "    prompt=supervisor_prompt\n",
    ")\n",
    "\n",
    "# Compile the supervisor into an executable application\n",
    "app = supervisor.compile()"
   ]
  },
  {
   "cell_type": "markdown",
   "id": "5f7d6734",
   "metadata": {},
   "source": [
    "### Define the function to collect evidence from user/report"
   ]
  },
  {
   "cell_type": "code",
   "execution_count": 10,
   "id": "64260380",
   "metadata": {},
   "outputs": [],
   "source": [
    "def analyze_incident(incident_description: str, report_path: Union[str, None] = None):\n",
    "    \"\"\"Analyze incident using either investigation reports or interactive interview.\"\"\"\n",
    "    from IPython.display import display\n",
    "    import ipywidgets as widgets\n",
    "    import os\n",
    "\n",
    "    print(\"\\n=== Starting RCA Analysis ===\")\n",
    "\n",
    "    loading = widgets.HTML(\"<b>Analyzing... please wait.</b> <i class='fa fa-spinner fa-spin'></i>\")\n",
    "    messages = [{\"role\": \"user\", \"content\": incident_description}]\n",
    "    context = {}\n",
    "\n",
    "    if report_path and os.path.exists(report_path):\n",
    "        print(\"Using investigation report for analysis...\")\n",
    "        evidence = process_investigation_report(report_path)\n",
    "        context[\"evidence_type\"] = \"report\"\n",
    "        context[\"evidence\"] = evidence\n",
    "\n",
    "        display(loading)\n",
    "        result = app.invoke({\n",
    "            \"messages\": messages,\n",
    "            \"context\": context\n",
    "        })\n",
    "        loading.value = \"\"  # Stop spinner\n",
    "        print(\"\\n=== Analysis Results ===\")\n",
    "        display_final_rca_response(result)\n",
    "\n",
    "    else:\n",
    "        print(\"No investigation report found. Starting interactive interview...\")\n",
    "\n",
    "        def on_complete(responses):\n",
    "            evidence = \"\\n\\n\".join([f\"Q: {q}\\nA: {a}\" for q, a in responses.items()])\n",
    "            context[\"evidence_type\"] = \"interview\"\n",
    "            context[\"evidence\"] = evidence\n",
    "\n",
    "            display(loading)\n",
    "            result = app.invoke({\n",
    "                \"messages\": messages,\n",
    "                \"context\": context\n",
    "            })\n",
    "            loading.value = \"\"  # Stop spinner\n",
    "            print(\"\\n=== Analysis Results ===\")\n",
    "            display_final_rca_response(result)\n",
    "\n",
    "        interactive_interview(incident_description, on_complete)\n"
   ]
  },
  {
   "cell_type": "markdown",
   "id": "b0d97b57",
   "metadata": {},
   "source": [
    "#### Analysis using the investigation report"
   ]
  },
  {
   "cell_type": "code",
   "execution_count": 11,
   "id": "3dc34e94",
   "metadata": {},
   "outputs": [
    {
     "name": "stderr",
     "output_type": "stream",
     "text": [
      "<>:3: SyntaxWarning: invalid escape sequence '\\i'\n",
      "<>:3: SyntaxWarning: invalid escape sequence '\\i'\n",
      "C:\\Users\\ABHANA\\AppData\\Local\\Temp\\ipykernel_6188\\3369250320.py:3: SyntaxWarning: invalid escape sequence '\\i'\n",
      "  report_path = \"data\\investigation_reports\\investigation-report---statoil---heidrun.pdf\"\n"
     ]
    },
    {
     "name": "stdout",
     "output_type": "stream",
     "text": [
      "\n",
      "=== Starting RCA Analysis ===\n",
      "Using investigation report for analysis...\n"
     ]
    },
    {
     "data": {
      "application/vnd.jupyter.widget-view+json": {
       "model_id": "207bf03c8ba4454683491e20ae76e7aa",
       "version_major": 2,
       "version_minor": 0
      },
      "text/plain": [
       "HTML(value=\"<b>Analyzing... please wait.</b> <i class='fa fa-spinner fa-spin'></i>\")"
      ]
     },
     "metadata": {},
     "output_type": "display_data"
    },
    {
     "name": "stdout",
     "output_type": "stream",
     "text": [
      "\n",
      "=== Analysis Results ===\n",
      "\n",
      "Analysis saved to: rca_analysis_20250429_230557.md\n"
     ]
    },
    {
     "data": {
      "text/html": [
       "\n",
       "    <div style=\"max-width: 800px; margin: 20px auto; background-color: white; padding: 20px; border-radius: 8px;\">\n",
       "        <style>\n",
       "            .card-body { \n",
       "                padding: 15px;\n",
       "                background-color: white;\n",
       "            }\n",
       "            .markdown-content { \n",
       "                font-family: -apple-system, BlinkMacSystemFont, \"Segoe UI\", Roboto, \"Helvetica Neue\", Arial, sans-serif;\n",
       "                color: #333333;\n",
       "            }\n",
       "            .markdown-content h1, h2, h3 { \n",
       "                color: #2980b9; \n",
       "                margin-top: 20px;\n",
       "                font-weight: 600;\n",
       "            }\n",
       "            .markdown-content pre { \n",
       "                background-color: #f8f9fa; \n",
       "                padding: 10px; \n",
       "                border-radius: 4px;\n",
       "                border: 1px solid #e0e0e0;\n",
       "            }\n",
       "            .markdown-content table {\n",
       "                width: 100%;\n",
       "                border-collapse: collapse;\n",
       "                margin: 15px 0;\n",
       "            }\n",
       "            .markdown-content th {\n",
       "                background-color: #2980b9;\n",
       "                color: white;\n",
       "                padding: 10px;\n",
       "                border: 1px solid #e0e0e0;\n",
       "            }\n",
       "            .markdown-content td {\n",
       "                padding: 8px;\n",
       "                border: 1px solid #e0e0e0;\n",
       "                background-color: white;\n",
       "            }\n",
       "            .markdown-content ul, ol { \n",
       "                padding-left: 20px;\n",
       "                color: #333333;\n",
       "            }\n",
       "        </style>\n",
       "        <h2 style=\"color: #2980b9; text-align: center;\">RCA Analysis Results</h2>\n",
       "    \n",
       "    <div class=\"card\">\n",
       "        <div class=\"card-body\">\n",
       "            <div class=\"markdown-content\">\n",
       "                <p>Here are the compiled Root Cause Analysis (RCA) findings for the dropped object (grating plate) incident on Heidrun TLP, 22 September 2015:</p>\n",
       "\n",
       "<hr />\n",
       "\n",
       "<h2>1. RCA Technique Recommendation</h2>\n",
       "\n",
       "<p><strong>Recommended Technique:</strong><br />\n",
       "Cause and Effect Analysis (Fishbone/Ishikawa Diagram)</p>\n",
       "\n",
       "<p><strong>Rationale:</strong><br />\n",
       "- This method is highly suitable for dropped object incidents in offshore operations, allowing a structured investigation of contributing factors (people, equipment, procedures, etc.).\n",
       "- Supported by industry standard NEK IEC 62740:2015.</p>\n",
       "\n",
       "<hr />\n",
       "\n",
       "<h2>2. Root Cause Analysis Findings</h2>\n",
       "\n",
       "<p><strong>Incident Overview:</strong><br />\n",
       "On 22 September 2015, a grating plate was dropped on the Heidrun Tension Leg Platform (TLP), presenting significant safety hazards.</p>\n",
       "\n",
       "<p><strong>Analysis Using Fishbone Diagram:</strong></p>\n",
       "\n",
       "<ul>\n",
       "<li><strong>People:</strong> Possible gaps in training, supervision, or adherence to safety procedures.</li>\n",
       "<li><strong>Procedures:</strong> Potential absence or inadequacy of lift plans, dropped object prevention methods, or job safety analysis (JSA).</li>\n",
       "<li><strong>Equipment:</strong> Issues may include unsuitable/worn lifting gear or failure of securing devices.</li>\n",
       "<li><strong>Environment:</strong> Weather conditions, visibility, and workplace housekeeping could have contributed.</li>\n",
       "<li><strong>Materials:</strong> Grating plate integrity or corroded attachments.</li>\n",
       "<li><strong>Management:</strong> Possible lack of robust dropped object prevention programs, insufficient audits, or safety leadership.</li>\n",
       "</ul>\n",
       "\n",
       "<p><strong>Likely Root Causes (based on standard industry scenarios):</strong>\n",
       "1. Incomplete/absent formal lift plans and JSA.\n",
       "2. Insufficient training or supervision for personnel.\n",
       "3. Inadequate equipment inspection or use of improper lifting gear.\n",
       "4. Environmental risks not sufficiently mitigated.\n",
       "5. Weak leadership or dropped object prevention programs.</p>\n",
       "\n",
       "<hr />\n",
       "\n",
       "<h2>3. Recommendations</h2>\n",
       "\n",
       "<ol>\n",
       "<li><strong>Improve Training:</strong> Routine, mandatory instruction for relevant personnel.</li>\n",
       "<li><strong>Strengthen Procedures:</strong> Enforce formal lift plans and systematic JSA for all grating plate work.</li>\n",
       "<li><strong>Enhance Equipment Controls:</strong> Consistent inspection and maintenance of lifting equipment and attachments.</li>\n",
       "<li><strong>Environmental Controls:</strong> Only lift in safe weather, ensure job sites are clear of hazards.</li>\n",
       "<li><strong>Management Actions:</strong> Implement and audit robust dropped object prevention and safety leadership programs.</li>\n",
       "</ol>\n",
       "\n",
       "<hr />\n",
       "\n",
       "<p><strong>Note:</strong><br />\n",
       "Final root causes should be verified with site-specific evidence and investigation reports, updating recommendations as needed.</p>\n",
       "\n",
       "<p>If you need the full fishbone diagram template or guidance on implementation, please let me know.</p>\n",
       "\n",
       "            </div>\n",
       "        </div>\n",
       "    </div>\n",
       "    </div>"
      ],
      "text/plain": [
       "<IPython.core.display.HTML object>"
      ]
     },
     "metadata": {},
     "output_type": "display_data"
    }
   ],
   "source": [
    "# Test the interactive analysis\n",
    "incident = \"A dropped object (a grating plate) on the Heidrun TLP, on 22 September 2015.\"\n",
    "report_path = \"data\\investigation_reports\\investigation-report---statoil---heidrun.pdf\"\n",
    "result1 = analyze_incident(incident, report_path)  # This will use the investigation report"
   ]
  },
  {
   "cell_type": "markdown",
   "id": "ef4c0d36",
   "metadata": {},
   "source": [
    "#### Analysis based on questionnaire"
   ]
  },
  {
   "cell_type": "code",
   "execution_count": 15,
   "id": "5d056c39",
   "metadata": {},
   "outputs": [
    {
     "name": "stdout",
     "output_type": "stream",
     "text": [
      "\n",
      "=== Starting RCA Analysis ===\n",
      "No investigation report found. Starting interactive interview...\n"
     ]
    },
    {
     "data": {
      "application/vnd.jupyter.widget-view+json": {
       "model_id": "436e6e299acf44288dfb4a6cc85b4898",
       "version_major": 2,
       "version_minor": 0
      },
      "text/plain": [
       "VBox(children=(HTML(value='<h2>RCA Interview</h2><p>Incident: A dropped object (a grating plate) on the Heidru…"
      ]
     },
     "metadata": {},
     "output_type": "display_data"
    }
   ],
   "source": [
    "result2 = analyze_incident(incident)  # This will trigger the interview"
   ]
  },
  {
   "cell_type": "code",
   "execution_count": null,
   "id": "eb6c5f4e",
   "metadata": {},
   "outputs": [],
   "source": []
  }
 ],
 "metadata": {
  "kernelspec": {
   "display_name": "rca-env",
   "language": "python",
   "name": "python3"
  },
  "language_info": {
   "codemirror_mode": {
    "name": "ipython",
    "version": 3
   },
   "file_extension": ".py",
   "mimetype": "text/x-python",
   "name": "python",
   "nbconvert_exporter": "python",
   "pygments_lexer": "ipython3",
   "version": "3.12.10"
  }
 },
 "nbformat": 4,
 "nbformat_minor": 5
}
